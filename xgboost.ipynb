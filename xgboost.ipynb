{
 "cells": [
  {
   "cell_type": "markdown",
   "id": "028d7766-e463-4436-a7f0-af049c10a0a6",
   "metadata": {},
   "source": [
    "XGBoost for Flu Shot Learning\n",
    "https://www.drivendata.org/competitions/66/flu-shot-learning/"
   ]
  },
  {
   "cell_type": "code",
   "execution_count": 40,
   "id": "2e21a587-0a74-497f-b9dd-dfaa1b489921",
   "metadata": {},
   "outputs": [],
   "source": [
    "import numpy as np\n",
    "import pandas as pd\n",
    "import xgboost as xgb\n",
    "import matplotlib.pyplot as plt\n",
    "\n",
    "from sklearn.model_selection import train_test_split\n",
    "from sklearn.metrics import balanced_accuracy_score, roc_auc_score, make_scorer, roc_curve\n",
    "from sklearn.model_selection import GridSearchCV # cross validation\n",
    "from sklearn.metrics import confusion_matrix\n",
    "from sklearn.metrics import plot_confusion_matrix\n",
    "from sklearn.preprocessing import OrdinalEncoder, OneHotEncoder\n",
    "from sklearn.multioutput import MultiOutputClassifier\n",
    "from sklearn.pipeline import Pipeline\n",
    "from sklearn.compose import ColumnTransformer\n",
    "from sklearn.model_selection import StratifiedKFold"
   ]
  },
  {
   "cell_type": "code",
   "execution_count": 3,
   "id": "25a29683-5c81-4600-8d7b-11de51c50b91",
   "metadata": {},
   "outputs": [],
   "source": [
    "RND_SEED = 3"
   ]
  },
  {
   "cell_type": "code",
   "execution_count": 4,
   "id": "a553b08b-f537-4af1-8c53-da18cd243c2d",
   "metadata": {},
   "outputs": [],
   "source": [
    "y = pd.read_csv('data/training_set_labels.csv',\n",
    "                       index_col='respondent_id')\n",
    "y_h1n1 = y['h1n1_vaccine']\n",
    "y_seasonal = y['seasonal_vaccine']\n",
    "X = pd.read_csv('data/training_set_features.csv',\n",
    "                         index_col='respondent_id')"
   ]
  },
  {
   "cell_type": "markdown",
   "id": "cc1125cc-010b-440e-8609-69c86ee5bf44",
   "metadata": {},
   "source": [
    "### Check for dtypes, missing values and statistical datatype "
   ]
  },
  {
   "cell_type": "code",
   "execution_count": 5,
   "id": "6aa54577-a6cb-444e-9349-3ebd2c5bb78b",
   "metadata": {},
   "outputs": [
    {
     "data": {
      "text/plain": [
       "h1n1_concern                   float64\n",
       "h1n1_knowledge                 float64\n",
       "behavioral_antiviral_meds      float64\n",
       "behavioral_avoidance           float64\n",
       "behavioral_face_mask           float64\n",
       "behavioral_wash_hands          float64\n",
       "behavioral_large_gatherings    float64\n",
       "behavioral_outside_home        float64\n",
       "behavioral_touch_face          float64\n",
       "doctor_recc_h1n1               float64\n",
       "doctor_recc_seasonal           float64\n",
       "chronic_med_condition          float64\n",
       "child_under_6_months           float64\n",
       "health_worker                  float64\n",
       "health_insurance               float64\n",
       "opinion_h1n1_vacc_effective    float64\n",
       "opinion_h1n1_risk              float64\n",
       "opinion_h1n1_sick_from_vacc    float64\n",
       "opinion_seas_vacc_effective    float64\n",
       "opinion_seas_risk              float64\n",
       "opinion_seas_sick_from_vacc    float64\n",
       "age_group                       object\n",
       "education                       object\n",
       "race                            object\n",
       "sex                             object\n",
       "income_poverty                  object\n",
       "marital_status                  object\n",
       "rent_or_own                     object\n",
       "employment_status               object\n",
       "hhs_geo_region                  object\n",
       "census_msa                      object\n",
       "household_adults               float64\n",
       "household_children             float64\n",
       "employment_industry             object\n",
       "employment_occupation           object\n",
       "dtype: object"
      ]
     },
     "execution_count": 5,
     "metadata": {},
     "output_type": "execute_result"
    }
   ],
   "source": [
    "X.dtypes"
   ]
  },
  {
   "cell_type": "markdown",
   "id": "94ae550b-8ca7-4a22-8893-0ba1c17bcad3",
   "metadata": {},
   "source": [
    "#### Ordinal data:"
   ]
  },
  {
   "cell_type": "code",
   "execution_count": 6,
   "id": "4f4ab512-06f8-4f5f-b140-2ce38a2100e7",
   "metadata": {},
   "outputs": [
    {
     "data": {
      "text/plain": [
       "array(['55 - 64 Years', '35 - 44 Years', '18 - 34 Years', '65+ Years',\n",
       "       '45 - 54 Years'], dtype=object)"
      ]
     },
     "execution_count": 6,
     "metadata": {},
     "output_type": "execute_result"
    }
   ],
   "source": [
    "X['age_group'].unique()"
   ]
  },
  {
   "cell_type": "code",
   "execution_count": 7,
   "id": "563f570a-a679-4600-9c45-287af41043e0",
   "metadata": {},
   "outputs": [
    {
     "data": {
      "text/plain": [
       "array(['< 12 Years', '12 Years', 'College Graduate', 'Some College', nan],\n",
       "      dtype=object)"
      ]
     },
     "execution_count": 7,
     "metadata": {},
     "output_type": "execute_result"
    }
   ],
   "source": [
    "X['education'].unique()"
   ]
  },
  {
   "cell_type": "code",
   "execution_count": 8,
   "id": "9bdccefb-e944-413b-bc6e-ad00800494a5",
   "metadata": {},
   "outputs": [
    {
     "data": {
      "text/plain": [
       "array(['Below Poverty', '<= $75,000, Above Poverty', '> $75,000', nan],\n",
       "      dtype=object)"
      ]
     },
     "execution_count": 8,
     "metadata": {},
     "output_type": "execute_result"
    }
   ],
   "source": [
    "X['income_poverty'].unique()"
   ]
  },
  {
   "cell_type": "code",
   "execution_count": 9,
   "id": "7f72fe63-c220-408a-88a7-29aa8744e884",
   "metadata": {},
   "outputs": [],
   "source": [
    "X_train, X_test, y_train, y_test = train_test_split(X, y, random_state=RND_SEED, stratify=y_h1n1)"
   ]
  },
  {
   "cell_type": "markdown",
   "id": "d46dc1b0-0d02-4693-9d46-798e21b03f63",
   "metadata": {
    "tags": []
   },
   "source": [
    "### Ordinal Encodings"
   ]
  },
  {
   "cell_type": "code",
   "execution_count": 10,
   "id": "ca817e72-a892-45eb-9e2b-b06c98a3cbc4",
   "metadata": {},
   "outputs": [],
   "source": [
    "age_group_transformer = OrdinalEncoder(categories=[['18 - 34 Years','35 - 44 Years','45 - 54 Years','55 - 64 Years', '65+ Years',]],\n",
    "                            handle_unknown='use_encoded_value',\n",
    "                            unknown_value=np.nan) #.fit_transform()\n",
    "\n",
    "education_transformer = OrdinalEncoder(categories=[['< 12 Years', '12 Years', 'Some College', 'College Graduate']],\n",
    "                            handle_unknown='use_encoded_value',\n",
    "                            unknown_value=np.nan) #.fit_transform()\n",
    "\n",
    "income_poverty_transformer = OrdinalEncoder(categories=[['Below Poverty', '<= $75,000, Above Poverty', '> $75,000']],\n",
    "                            handle_unknown='use_encoded_value',\n",
    "                            unknown_value=np.nan) #.fit_transform()"
   ]
  },
  {
   "cell_type": "code",
   "execution_count": 11,
   "id": "c582e254-f6ef-46f3-828e-6c40ab3a4d8e",
   "metadata": {},
   "outputs": [],
   "source": [
    "# at_res = age_group_transformer.fit_transform(X_train['age_group'].values[:,np.newaxis])"
   ]
  },
  {
   "cell_type": "code",
   "execution_count": 12,
   "id": "b4a83980-e95d-4a08-b2e7-4081527ef074",
   "metadata": {},
   "outputs": [],
   "source": [
    "#age_groups = X['age_group'].unique()\n",
    "#age_groups.sort()\n",
    "#ord_enc = OrdinalEncoder()\n",
    "#ord_enc.fit(X[[\"age_group\"]])\n",
    "#X[[\"age_group\"]] = ord_enc.transform(X[[\"age_group\"]])"
   ]
  },
  {
   "cell_type": "code",
   "execution_count": 13,
   "id": "dfb79b18-14d8-42e5-9b8c-9a433e4e152b",
   "metadata": {},
   "outputs": [],
   "source": [
    "#ord_enc.categories_"
   ]
  },
  {
   "cell_type": "code",
   "execution_count": 14,
   "id": "b296d13f-bda4-49ca-8d5f-c41efce27456",
   "metadata": {},
   "outputs": [],
   "source": [
    "#ord_enc_ed = OrdinalEncoder(categories=[['< 12 Years', '12 Years', 'Some College', 'College Graduate']],\n",
    "#                            handle_unknown='use_encoded_value',\n",
    "#                            unknown_value=np.nan)\n",
    "#enc_ed = ord_enc_ed.fit_transform(X.loc[:,['education']], )"
   ]
  },
  {
   "cell_type": "code",
   "execution_count": 15,
   "id": "9588d9f0-00c2-41fa-92ec-988d1f0d32e4",
   "metadata": {},
   "outputs": [],
   "source": [
    "# assert that the nans are correctly treated\n",
    "#np.testing.assert_array_equal(np.where(X['education'].isnull().values)[0],\n",
    "#                              np.argwhere(np.isnan(enc_ed))[:,0])"
   ]
  },
  {
   "cell_type": "code",
   "execution_count": 16,
   "id": "e2563873-42e9-41b3-b910-fb957a53154e",
   "metadata": {},
   "outputs": [],
   "source": [
    "#X[[\"education\"]] = enc_ed"
   ]
  },
  {
   "cell_type": "markdown",
   "id": "8d16bdd2-c466-460c-a9f4-8d1290b46d4c",
   "metadata": {},
   "source": []
  },
  {
   "cell_type": "code",
   "execution_count": 17,
   "id": "099917e9-9b26-4111-807d-7d06e7260836",
   "metadata": {},
   "outputs": [],
   "source": [
    "#X['income_poverty'].unique()"
   ]
  },
  {
   "cell_type": "code",
   "execution_count": 18,
   "id": "01dfd40e-803a-4007-9b6c-d6e69d70220b",
   "metadata": {},
   "outputs": [],
   "source": [
    "#ord_enc_ip = OrdinalEncoder(categories=[['Below Poverty', '<= $75,000, Above Poverty', '> $75,000']],\n",
    "#                            handle_unknown='use_encoded_value',\n",
    "#                            unknown_value=np.nan)\n",
    "#ord_enc_ip = ord_enc_ip.fit_transform(X.loc[:,['income_poverty']], )\n",
    "#X[[\"income_poverty\"]] = ord_enc_ip"
   ]
  },
  {
   "cell_type": "code",
   "execution_count": null,
   "id": "9e209eec-545e-49b3-b5ba-62334d0ae8ce",
   "metadata": {},
   "outputs": [],
   "source": []
  },
  {
   "cell_type": "markdown",
   "id": "98c56b6d-df43-41ab-81c4-68bbea7e0207",
   "metadata": {
    "tags": []
   },
   "source": [
    "#### Categorial data"
   ]
  },
  {
   "cell_type": "code",
   "execution_count": 19,
   "id": "9cf6a23b-3942-41a9-b69d-8440d2cc5510",
   "metadata": {},
   "outputs": [
    {
     "data": {
      "text/plain": [
       "array(['White', 'Black', 'Other or Multiple', 'Hispanic'], dtype=object)"
      ]
     },
     "execution_count": 19,
     "metadata": {},
     "output_type": "execute_result"
    }
   ],
   "source": [
    "X['race'].unique()"
   ]
  },
  {
   "cell_type": "code",
   "execution_count": 20,
   "id": "4f1f8821-caff-42a9-a9fe-d7ebb770a256",
   "metadata": {},
   "outputs": [
    {
     "data": {
      "text/plain": [
       "array(['Female', 'Male'], dtype=object)"
      ]
     },
     "execution_count": 20,
     "metadata": {},
     "output_type": "execute_result"
    }
   ],
   "source": [
    "X['sex'].unique()"
   ]
  },
  {
   "cell_type": "code",
   "execution_count": 21,
   "id": "8e3fcab2-8135-4f79-b5e0-1ce9509ab9be",
   "metadata": {},
   "outputs": [
    {
     "data": {
      "text/plain": [
       "array(['Not Married', 'Married', nan], dtype=object)"
      ]
     },
     "execution_count": 21,
     "metadata": {},
     "output_type": "execute_result"
    }
   ],
   "source": [
    "X['marital_status'].unique()"
   ]
  },
  {
   "cell_type": "code",
   "execution_count": 22,
   "id": "113f3179-b677-4333-89fa-ce98b55e4eaf",
   "metadata": {},
   "outputs": [
    {
     "data": {
      "text/plain": [
       "array(['Own', 'Rent', nan], dtype=object)"
      ]
     },
     "execution_count": 22,
     "metadata": {},
     "output_type": "execute_result"
    }
   ],
   "source": [
    "X['rent_or_own'].unique()"
   ]
  },
  {
   "cell_type": "code",
   "execution_count": 23,
   "id": "7743b830-e27e-4045-a73d-6f82246f4ae1",
   "metadata": {},
   "outputs": [
    {
     "data": {
      "text/plain": [
       "array(['Not in Labor Force', 'Employed', 'Unemployed', nan], dtype=object)"
      ]
     },
     "execution_count": 23,
     "metadata": {},
     "output_type": "execute_result"
    }
   ],
   "source": [
    "X['employment_status'].unique()"
   ]
  },
  {
   "cell_type": "code",
   "execution_count": 24,
   "id": "900e0dcc-cc32-4808-82b3-8395dc859a98",
   "metadata": {},
   "outputs": [
    {
     "data": {
      "text/plain": [
       "array(['oxchjgsf', 'bhuqouqj', 'qufhixun', 'lrircsnp', 'atmpeygn',\n",
       "       'lzgpxyit', 'fpwskwrf', 'mlyzmhmf', 'dqpwygqj', 'kbazzjca'],\n",
       "      dtype=object)"
      ]
     },
     "execution_count": 24,
     "metadata": {},
     "output_type": "execute_result"
    }
   ],
   "source": [
    "X['hhs_geo_region'].unique()"
   ]
  },
  {
   "cell_type": "code",
   "execution_count": 25,
   "id": "505a3e98-4816-4e6a-801d-ea76f626a987",
   "metadata": {},
   "outputs": [
    {
     "data": {
      "text/plain": [
       "array(['Non-MSA', 'MSA, Not Principle  City', 'MSA, Principle City'],\n",
       "      dtype=object)"
      ]
     },
     "execution_count": 25,
     "metadata": {},
     "output_type": "execute_result"
    }
   ],
   "source": [
    "X['census_msa'].unique()"
   ]
  },
  {
   "cell_type": "code",
   "execution_count": 26,
   "id": "4be5bee8-211f-4975-9bdf-0ddcc2d287b1",
   "metadata": {},
   "outputs": [
    {
     "data": {
      "text/plain": [
       "array([nan, 'pxcmvdjn', 'rucpziij', 'wxleyezf', 'saaquncn', 'xicduogh',\n",
       "       'ldnlellj', 'wlfvacwt', 'nduyfdeo', 'fcxhlnwr', 'vjjrobsf',\n",
       "       'arjwrbjb', 'atmlpfrs', 'msuufmds', 'xqicxuve', 'phxvnwax',\n",
       "       'dotnnunm', 'mfikgejo', 'cfqqtusy', 'mcubkhph', 'haxffmxo',\n",
       "       'qnlwzans'], dtype=object)"
      ]
     },
     "execution_count": 26,
     "metadata": {},
     "output_type": "execute_result"
    }
   ],
   "source": [
    "X['employment_industry'].unique()"
   ]
  },
  {
   "cell_type": "code",
   "execution_count": 27,
   "id": "03ba3768-0a8d-45e1-91f4-0ab986ee9e5d",
   "metadata": {},
   "outputs": [
    {
     "data": {
      "text/plain": [
       "array([nan, 'xgwztkwe', 'xtkaffoo', 'emcorrxb', 'vlluhbov', 'xqwwgdyp',\n",
       "       'ccgxvspp', 'qxajmpny', 'kldqjyjy', 'mxkfnird', 'hfxkjkmi',\n",
       "       'bxpfxfdn', 'ukymxvdu', 'cmhcxjea', 'haliazsg', 'dlvbwzss',\n",
       "       'xzmlyyjv', 'oijqvulv', 'rcertsgn', 'tfqavkke', 'hodpvpew',\n",
       "       'uqqtjvyb', 'pvmttkik', 'dcjcmpih'], dtype=object)"
      ]
     },
     "execution_count": 27,
     "metadata": {},
     "output_type": "execute_result"
    }
   ],
   "source": [
    "X['employment_occupation'].unique()"
   ]
  },
  {
   "cell_type": "code",
   "execution_count": 28,
   "id": "4884d104-2ab2-4832-8bac-a44b82678da5",
   "metadata": {},
   "outputs": [
    {
     "data": {
      "text/plain": [
       "Index(['age_group', 'education', 'race', 'sex', 'income_poverty',\n",
       "       'marital_status', 'rent_or_own', 'employment_status', 'hhs_geo_region',\n",
       "       'census_msa', 'employment_industry', 'employment_occupation'],\n",
       "      dtype='object')"
      ]
     },
     "execution_count": 28,
     "metadata": {},
     "output_type": "execute_result"
    }
   ],
   "source": [
    "X.columns[X.dtypes == 'object']"
   ]
  },
  {
   "cell_type": "markdown",
   "id": "db70cbc8-4c55-407a-911f-4ddcb94e1eca",
   "metadata": {},
   "source": [
    "### One Hot Encoding"
   ]
  },
  {
   "cell_type": "code",
   "execution_count": 29,
   "id": "381307fc-d769-4a04-87cf-7e36dac91689",
   "metadata": {},
   "outputs": [],
   "source": [
    "#X = pd.get_dummies(X, columns=X.columns[X.dtypes == 'object'])\n",
    "categorical_transformer = Pipeline(steps=[\n",
    "    ('onehot', OneHotEncoder(handle_unknown='ignore'))])\n",
    "\n",
    "categorical_features = X.columns[X.dtypes == 'object']\n",
    "\n"
   ]
  },
  {
   "cell_type": "markdown",
   "id": "549b14ba-c314-4ad5-a596-6d541abbf9ea",
   "metadata": {},
   "source": [
    "### Preprocessor"
   ]
  },
  {
   "cell_type": "code",
   "execution_count": 30,
   "id": "bdc0dfbf-5310-463f-b655-df8ffd89572c",
   "metadata": {},
   "outputs": [],
   "source": [
    "preprocessor = ColumnTransformer([\n",
    "        ('ordinal_agegroup', age_group_transformer, ['age_group']),\n",
    "        ('ordinal_education',education_transformer, ['education']),\n",
    "        ('ordinal_income_poverty', income_poverty_transformer, ['income_poverty']),\n",
    "        ('onehot', categorical_transformer, categorical_features)],\n",
    "        remainder='passthrough' # keep unpreprocessed data\n",
    ")\n"
   ]
  },
  {
   "cell_type": "code",
   "execution_count": 31,
   "id": "0d752470-9823-4f67-aa2a-c2bf81aa1ed7",
   "metadata": {},
   "outputs": [
    {
     "data": {
      "text/html": [
       "<div>\n",
       "<style scoped>\n",
       "    .dataframe tbody tr th:only-of-type {\n",
       "        vertical-align: middle;\n",
       "    }\n",
       "\n",
       "    .dataframe tbody tr th {\n",
       "        vertical-align: top;\n",
       "    }\n",
       "\n",
       "    .dataframe thead th {\n",
       "        text-align: right;\n",
       "    }\n",
       "</style>\n",
       "<table border=\"1\" class=\"dataframe\">\n",
       "  <thead>\n",
       "    <tr style=\"text-align: right;\">\n",
       "      <th></th>\n",
       "      <th>ordinal_agegroup__age_group</th>\n",
       "      <th>ordinal_education__education</th>\n",
       "      <th>ordinal_income_poverty__income_poverty</th>\n",
       "      <th>onehot__age_group_18 - 34 Years</th>\n",
       "      <th>onehot__age_group_35 - 44 Years</th>\n",
       "      <th>onehot__age_group_45 - 54 Years</th>\n",
       "      <th>onehot__age_group_55 - 64 Years</th>\n",
       "      <th>onehot__age_group_65+ Years</th>\n",
       "      <th>onehot__education_12 Years</th>\n",
       "      <th>onehot__education_&lt; 12 Years</th>\n",
       "      <th>...</th>\n",
       "      <th>remainder__health_worker</th>\n",
       "      <th>remainder__health_insurance</th>\n",
       "      <th>remainder__opinion_h1n1_vacc_effective</th>\n",
       "      <th>remainder__opinion_h1n1_risk</th>\n",
       "      <th>remainder__opinion_h1n1_sick_from_vacc</th>\n",
       "      <th>remainder__opinion_seas_vacc_effective</th>\n",
       "      <th>remainder__opinion_seas_risk</th>\n",
       "      <th>remainder__opinion_seas_sick_from_vacc</th>\n",
       "      <th>remainder__household_adults</th>\n",
       "      <th>remainder__household_children</th>\n",
       "    </tr>\n",
       "  </thead>\n",
       "  <tbody>\n",
       "    <tr>\n",
       "      <th>0</th>\n",
       "      <td>2.0</td>\n",
       "      <td>3.0</td>\n",
       "      <td>2.0</td>\n",
       "      <td>0.0</td>\n",
       "      <td>0.0</td>\n",
       "      <td>1.0</td>\n",
       "      <td>0.0</td>\n",
       "      <td>0.0</td>\n",
       "      <td>0.0</td>\n",
       "      <td>0.0</td>\n",
       "      <td>...</td>\n",
       "      <td>0.0</td>\n",
       "      <td>NaN</td>\n",
       "      <td>5.0</td>\n",
       "      <td>2.0</td>\n",
       "      <td>2.0</td>\n",
       "      <td>5.0</td>\n",
       "      <td>2.0</td>\n",
       "      <td>1.0</td>\n",
       "      <td>1.0</td>\n",
       "      <td>2.0</td>\n",
       "    </tr>\n",
       "    <tr>\n",
       "      <th>1</th>\n",
       "      <td>2.0</td>\n",
       "      <td>3.0</td>\n",
       "      <td>1.0</td>\n",
       "      <td>0.0</td>\n",
       "      <td>0.0</td>\n",
       "      <td>1.0</td>\n",
       "      <td>0.0</td>\n",
       "      <td>0.0</td>\n",
       "      <td>0.0</td>\n",
       "      <td>0.0</td>\n",
       "      <td>...</td>\n",
       "      <td>0.0</td>\n",
       "      <td>NaN</td>\n",
       "      <td>3.0</td>\n",
       "      <td>1.0</td>\n",
       "      <td>2.0</td>\n",
       "      <td>5.0</td>\n",
       "      <td>2.0</td>\n",
       "      <td>2.0</td>\n",
       "      <td>1.0</td>\n",
       "      <td>0.0</td>\n",
       "    </tr>\n",
       "    <tr>\n",
       "      <th>2</th>\n",
       "      <td>3.0</td>\n",
       "      <td>1.0</td>\n",
       "      <td>0.0</td>\n",
       "      <td>0.0</td>\n",
       "      <td>0.0</td>\n",
       "      <td>0.0</td>\n",
       "      <td>1.0</td>\n",
       "      <td>0.0</td>\n",
       "      <td>1.0</td>\n",
       "      <td>0.0</td>\n",
       "      <td>...</td>\n",
       "      <td>1.0</td>\n",
       "      <td>0.0</td>\n",
       "      <td>5.0</td>\n",
       "      <td>4.0</td>\n",
       "      <td>1.0</td>\n",
       "      <td>5.0</td>\n",
       "      <td>4.0</td>\n",
       "      <td>2.0</td>\n",
       "      <td>0.0</td>\n",
       "      <td>0.0</td>\n",
       "    </tr>\n",
       "    <tr>\n",
       "      <th>3</th>\n",
       "      <td>3.0</td>\n",
       "      <td>1.0</td>\n",
       "      <td>1.0</td>\n",
       "      <td>0.0</td>\n",
       "      <td>0.0</td>\n",
       "      <td>0.0</td>\n",
       "      <td>1.0</td>\n",
       "      <td>0.0</td>\n",
       "      <td>1.0</td>\n",
       "      <td>0.0</td>\n",
       "      <td>...</td>\n",
       "      <td>1.0</td>\n",
       "      <td>1.0</td>\n",
       "      <td>5.0</td>\n",
       "      <td>4.0</td>\n",
       "      <td>4.0</td>\n",
       "      <td>5.0</td>\n",
       "      <td>4.0</td>\n",
       "      <td>2.0</td>\n",
       "      <td>1.0</td>\n",
       "      <td>0.0</td>\n",
       "    </tr>\n",
       "    <tr>\n",
       "      <th>4</th>\n",
       "      <td>4.0</td>\n",
       "      <td>1.0</td>\n",
       "      <td>1.0</td>\n",
       "      <td>0.0</td>\n",
       "      <td>0.0</td>\n",
       "      <td>0.0</td>\n",
       "      <td>0.0</td>\n",
       "      <td>1.0</td>\n",
       "      <td>1.0</td>\n",
       "      <td>0.0</td>\n",
       "      <td>...</td>\n",
       "      <td>0.0</td>\n",
       "      <td>1.0</td>\n",
       "      <td>4.0</td>\n",
       "      <td>2.0</td>\n",
       "      <td>1.0</td>\n",
       "      <td>2.0</td>\n",
       "      <td>2.0</td>\n",
       "      <td>1.0</td>\n",
       "      <td>0.0</td>\n",
       "      <td>0.0</td>\n",
       "    </tr>\n",
       "  </tbody>\n",
       "</table>\n",
       "<p>5 rows × 115 columns</p>\n",
       "</div>"
      ],
      "text/plain": [
       "   ordinal_agegroup__age_group  ordinal_education__education  \\\n",
       "0                          2.0                           3.0   \n",
       "1                          2.0                           3.0   \n",
       "2                          3.0                           1.0   \n",
       "3                          3.0                           1.0   \n",
       "4                          4.0                           1.0   \n",
       "\n",
       "   ordinal_income_poverty__income_poverty  onehot__age_group_18 - 34 Years  \\\n",
       "0                                     2.0                              0.0   \n",
       "1                                     1.0                              0.0   \n",
       "2                                     0.0                              0.0   \n",
       "3                                     1.0                              0.0   \n",
       "4                                     1.0                              0.0   \n",
       "\n",
       "   onehot__age_group_35 - 44 Years  onehot__age_group_45 - 54 Years  \\\n",
       "0                              0.0                              1.0   \n",
       "1                              0.0                              1.0   \n",
       "2                              0.0                              0.0   \n",
       "3                              0.0                              0.0   \n",
       "4                              0.0                              0.0   \n",
       "\n",
       "   onehot__age_group_55 - 64 Years  onehot__age_group_65+ Years  \\\n",
       "0                              0.0                          0.0   \n",
       "1                              0.0                          0.0   \n",
       "2                              1.0                          0.0   \n",
       "3                              1.0                          0.0   \n",
       "4                              0.0                          1.0   \n",
       "\n",
       "   onehot__education_12 Years  onehot__education_< 12 Years  ...  \\\n",
       "0                         0.0                           0.0  ...   \n",
       "1                         0.0                           0.0  ...   \n",
       "2                         1.0                           0.0  ...   \n",
       "3                         1.0                           0.0  ...   \n",
       "4                         1.0                           0.0  ...   \n",
       "\n",
       "   remainder__health_worker  remainder__health_insurance  \\\n",
       "0                       0.0                          NaN   \n",
       "1                       0.0                          NaN   \n",
       "2                       1.0                          0.0   \n",
       "3                       1.0                          1.0   \n",
       "4                       0.0                          1.0   \n",
       "\n",
       "   remainder__opinion_h1n1_vacc_effective  remainder__opinion_h1n1_risk  \\\n",
       "0                                     5.0                           2.0   \n",
       "1                                     3.0                           1.0   \n",
       "2                                     5.0                           4.0   \n",
       "3                                     5.0                           4.0   \n",
       "4                                     4.0                           2.0   \n",
       "\n",
       "   remainder__opinion_h1n1_sick_from_vacc  \\\n",
       "0                                     2.0   \n",
       "1                                     2.0   \n",
       "2                                     1.0   \n",
       "3                                     4.0   \n",
       "4                                     1.0   \n",
       "\n",
       "   remainder__opinion_seas_vacc_effective  remainder__opinion_seas_risk  \\\n",
       "0                                     5.0                           2.0   \n",
       "1                                     5.0                           2.0   \n",
       "2                                     5.0                           4.0   \n",
       "3                                     5.0                           4.0   \n",
       "4                                     2.0                           2.0   \n",
       "\n",
       "   remainder__opinion_seas_sick_from_vacc  remainder__household_adults  \\\n",
       "0                                     1.0                          1.0   \n",
       "1                                     2.0                          1.0   \n",
       "2                                     2.0                          0.0   \n",
       "3                                     2.0                          1.0   \n",
       "4                                     1.0                          0.0   \n",
       "\n",
       "   remainder__household_children  \n",
       "0                            2.0  \n",
       "1                            0.0  \n",
       "2                            0.0  \n",
       "3                            0.0  \n",
       "4                            0.0  \n",
       "\n",
       "[5 rows x 115 columns]"
      ]
     },
     "execution_count": 31,
     "metadata": {},
     "output_type": "execute_result"
    }
   ],
   "source": [
    "preprocessed_df = pd.DataFrame(preprocessor.fit_transform(X_train), columns=preprocessor.get_feature_names_out()).head()\n",
    "preprocessed_df.head()"
   ]
  },
  {
   "cell_type": "code",
   "execution_count": 32,
   "id": "c372ed48-48f5-4305-862b-99bf1fe40e28",
   "metadata": {},
   "outputs": [
    {
     "data": {
      "text/plain": [
       "False"
      ]
     },
     "execution_count": 32,
     "metadata": {},
     "output_type": "execute_result"
    }
   ],
   "source": [
    "(preprocessed_df.dtypes != 'float64').any()"
   ]
  },
  {
   "cell_type": "markdown",
   "id": "eba56943-02d8-4410-abb5-0e2f01bdaaff",
   "metadata": {},
   "source": [
    "## Data Imbalance"
   ]
  },
  {
   "cell_type": "code",
   "execution_count": 33,
   "id": "d1c4be7a-dfff-43d1-8814-e5c566ab52d4",
   "metadata": {},
   "outputs": [
    {
     "data": {
      "text/plain": [
       "(20030, 2)"
      ]
     },
     "execution_count": 33,
     "metadata": {},
     "output_type": "execute_result"
    }
   ],
   "source": [
    "np.sum(y)/len(y)"
   ]
  },
  {
   "cell_type": "markdown",
   "id": "4f5f111c-d348-4ba5-b555-de4df6da6fca",
   "metadata": {},
   "source": [
    "## Model"
   ]
  },
  {
   "cell_type": "code",
   "execution_count": 35,
   "id": "f54232ba-0dbd-4862-98c6-2f0b4eaa289e",
   "metadata": {},
   "outputs": [
    {
     "data": {
      "text/html": [
       "<style>#sk-container-id-1 {color: black;background-color: white;}#sk-container-id-1 pre{padding: 0;}#sk-container-id-1 div.sk-toggleable {background-color: white;}#sk-container-id-1 label.sk-toggleable__label {cursor: pointer;display: block;width: 100%;margin-bottom: 0;padding: 0.3em;box-sizing: border-box;text-align: center;}#sk-container-id-1 label.sk-toggleable__label-arrow:before {content: \"▸\";float: left;margin-right: 0.25em;color: #696969;}#sk-container-id-1 label.sk-toggleable__label-arrow:hover:before {color: black;}#sk-container-id-1 div.sk-estimator:hover label.sk-toggleable__label-arrow:before {color: black;}#sk-container-id-1 div.sk-toggleable__content {max-height: 0;max-width: 0;overflow: hidden;text-align: left;background-color: #f0f8ff;}#sk-container-id-1 div.sk-toggleable__content pre {margin: 0.2em;color: black;border-radius: 0.25em;background-color: #f0f8ff;}#sk-container-id-1 input.sk-toggleable__control:checked~div.sk-toggleable__content {max-height: 200px;max-width: 100%;overflow: auto;}#sk-container-id-1 input.sk-toggleable__control:checked~label.sk-toggleable__label-arrow:before {content: \"▾\";}#sk-container-id-1 div.sk-estimator input.sk-toggleable__control:checked~label.sk-toggleable__label {background-color: #d4ebff;}#sk-container-id-1 div.sk-label input.sk-toggleable__control:checked~label.sk-toggleable__label {background-color: #d4ebff;}#sk-container-id-1 input.sk-hidden--visually {border: 0;clip: rect(1px 1px 1px 1px);clip: rect(1px, 1px, 1px, 1px);height: 1px;margin: -1px;overflow: hidden;padding: 0;position: absolute;width: 1px;}#sk-container-id-1 div.sk-estimator {font-family: monospace;background-color: #f0f8ff;border: 1px dotted black;border-radius: 0.25em;box-sizing: border-box;margin-bottom: 0.5em;}#sk-container-id-1 div.sk-estimator:hover {background-color: #d4ebff;}#sk-container-id-1 div.sk-parallel-item::after {content: \"\";width: 100%;border-bottom: 1px solid gray;flex-grow: 1;}#sk-container-id-1 div.sk-label:hover label.sk-toggleable__label {background-color: #d4ebff;}#sk-container-id-1 div.sk-serial::before {content: \"\";position: absolute;border-left: 1px solid gray;box-sizing: border-box;top: 0;bottom: 0;left: 50%;z-index: 0;}#sk-container-id-1 div.sk-serial {display: flex;flex-direction: column;align-items: center;background-color: white;padding-right: 0.2em;padding-left: 0.2em;position: relative;}#sk-container-id-1 div.sk-item {position: relative;z-index: 1;}#sk-container-id-1 div.sk-parallel {display: flex;align-items: stretch;justify-content: center;background-color: white;position: relative;}#sk-container-id-1 div.sk-item::before, #sk-container-id-1 div.sk-parallel-item::before {content: \"\";position: absolute;border-left: 1px solid gray;box-sizing: border-box;top: 0;bottom: 0;left: 50%;z-index: -1;}#sk-container-id-1 div.sk-parallel-item {display: flex;flex-direction: column;z-index: 1;position: relative;background-color: white;}#sk-container-id-1 div.sk-parallel-item:first-child::after {align-self: flex-end;width: 50%;}#sk-container-id-1 div.sk-parallel-item:last-child::after {align-self: flex-start;width: 50%;}#sk-container-id-1 div.sk-parallel-item:only-child::after {width: 0;}#sk-container-id-1 div.sk-dashed-wrapped {border: 1px dashed gray;margin: 0 0.4em 0.5em 0.4em;box-sizing: border-box;padding-bottom: 0.4em;background-color: white;}#sk-container-id-1 div.sk-label label {font-family: monospace;font-weight: bold;display: inline-block;line-height: 1.2em;}#sk-container-id-1 div.sk-label-container {text-align: center;}#sk-container-id-1 div.sk-container {/* jupyter's `normalize.less` sets `[hidden] { display: none; }` but bootstrap.min.css set `[hidden] { display: none !important; }` so we also need the `!important` here to be able to override the default hidden behavior on the sphinx rendered scikit-learn.org. See: https://github.com/scikit-learn/scikit-learn/issues/21755 */display: inline-block !important;position: relative;}#sk-container-id-1 div.sk-text-repr-fallback {display: none;}</style><div id=\"sk-container-id-1\" class=\"sk-top-container\"><div class=\"sk-text-repr-fallback\"><pre>Pipeline(steps=[(&#x27;preprocessor&#x27;,\n",
       "                 ColumnTransformer(remainder=&#x27;passthrough&#x27;,\n",
       "                                   transformers=[(&#x27;ordinal_agegroup&#x27;,\n",
       "                                                  OrdinalEncoder(categories=[[&#x27;18 &#x27;\n",
       "                                                                              &#x27;- &#x27;\n",
       "                                                                              &#x27;34 &#x27;\n",
       "                                                                              &#x27;Years&#x27;,\n",
       "                                                                              &#x27;35 &#x27;\n",
       "                                                                              &#x27;- &#x27;\n",
       "                                                                              &#x27;44 &#x27;\n",
       "                                                                              &#x27;Years&#x27;,\n",
       "                                                                              &#x27;45 &#x27;\n",
       "                                                                              &#x27;- &#x27;\n",
       "                                                                              &#x27;54 &#x27;\n",
       "                                                                              &#x27;Years&#x27;,\n",
       "                                                                              &#x27;55 &#x27;\n",
       "                                                                              &#x27;- &#x27;\n",
       "                                                                              &#x27;64 &#x27;\n",
       "                                                                              &#x27;Years&#x27;,\n",
       "                                                                              &#x27;65+ &#x27;\n",
       "                                                                              &#x27;Years&#x27;]],\n",
       "                                                                 handle_unknown=&#x27;use_encoded_value&#x27;,\n",
       "                                                                 unknown_value=nan),\n",
       "                                                  [&#x27;age_group&#x27;]),\n",
       "                                                 (&#x27;ordinal_education&#x27;,\n",
       "                                                  OrdinalEncoder(categories=[[&#x27;&lt; &#x27;\n",
       "                                                                              &#x27;1...\n",
       "                                                               grow_policy=None,\n",
       "                                                               importance_type=None,\n",
       "                                                               interaction_constraints=None,\n",
       "                                                               learning_rate=None,\n",
       "                                                               max_bin=None,\n",
       "                                                               max_cat_to_onehot=None,\n",
       "                                                               max_delta_step=None,\n",
       "                                                               max_depth=4,\n",
       "                                                               max_leaves=None,\n",
       "                                                               min_child_weight=None,\n",
       "                                                               missing=1,\n",
       "                                                               monotone_constraints=None,\n",
       "                                                               n_estimators=100,\n",
       "                                                               n_jobs=None,\n",
       "                                                               num_parallel_tree=None,\n",
       "                                                               predictor=None,\n",
       "                                                               random_state=None,\n",
       "                                                               reg_alpha=None,\n",
       "                                                               reg_lambda=None, ...)))])</pre><b>In a Jupyter environment, please rerun this cell to show the HTML representation or trust the notebook. <br />On GitHub, the HTML representation is unable to render, please try loading this page with nbviewer.org.</b></div><div class=\"sk-container\" hidden><div class=\"sk-item sk-dashed-wrapped\"><div class=\"sk-label-container\"><div class=\"sk-label sk-toggleable\"><input class=\"sk-toggleable__control sk-hidden--visually\" id=\"sk-estimator-id-1\" type=\"checkbox\" ><label for=\"sk-estimator-id-1\" class=\"sk-toggleable__label sk-toggleable__label-arrow\">Pipeline</label><div class=\"sk-toggleable__content\"><pre>Pipeline(steps=[(&#x27;preprocessor&#x27;,\n",
       "                 ColumnTransformer(remainder=&#x27;passthrough&#x27;,\n",
       "                                   transformers=[(&#x27;ordinal_agegroup&#x27;,\n",
       "                                                  OrdinalEncoder(categories=[[&#x27;18 &#x27;\n",
       "                                                                              &#x27;- &#x27;\n",
       "                                                                              &#x27;34 &#x27;\n",
       "                                                                              &#x27;Years&#x27;,\n",
       "                                                                              &#x27;35 &#x27;\n",
       "                                                                              &#x27;- &#x27;\n",
       "                                                                              &#x27;44 &#x27;\n",
       "                                                                              &#x27;Years&#x27;,\n",
       "                                                                              &#x27;45 &#x27;\n",
       "                                                                              &#x27;- &#x27;\n",
       "                                                                              &#x27;54 &#x27;\n",
       "                                                                              &#x27;Years&#x27;,\n",
       "                                                                              &#x27;55 &#x27;\n",
       "                                                                              &#x27;- &#x27;\n",
       "                                                                              &#x27;64 &#x27;\n",
       "                                                                              &#x27;Years&#x27;,\n",
       "                                                                              &#x27;65+ &#x27;\n",
       "                                                                              &#x27;Years&#x27;]],\n",
       "                                                                 handle_unknown=&#x27;use_encoded_value&#x27;,\n",
       "                                                                 unknown_value=nan),\n",
       "                                                  [&#x27;age_group&#x27;]),\n",
       "                                                 (&#x27;ordinal_education&#x27;,\n",
       "                                                  OrdinalEncoder(categories=[[&#x27;&lt; &#x27;\n",
       "                                                                              &#x27;1...\n",
       "                                                               grow_policy=None,\n",
       "                                                               importance_type=None,\n",
       "                                                               interaction_constraints=None,\n",
       "                                                               learning_rate=None,\n",
       "                                                               max_bin=None,\n",
       "                                                               max_cat_to_onehot=None,\n",
       "                                                               max_delta_step=None,\n",
       "                                                               max_depth=4,\n",
       "                                                               max_leaves=None,\n",
       "                                                               min_child_weight=None,\n",
       "                                                               missing=1,\n",
       "                                                               monotone_constraints=None,\n",
       "                                                               n_estimators=100,\n",
       "                                                               n_jobs=None,\n",
       "                                                               num_parallel_tree=None,\n",
       "                                                               predictor=None,\n",
       "                                                               random_state=None,\n",
       "                                                               reg_alpha=None,\n",
       "                                                               reg_lambda=None, ...)))])</pre></div></div></div><div class=\"sk-serial\"><div class=\"sk-item sk-dashed-wrapped\"><div class=\"sk-label-container\"><div class=\"sk-label sk-toggleable\"><input class=\"sk-toggleable__control sk-hidden--visually\" id=\"sk-estimator-id-2\" type=\"checkbox\" ><label for=\"sk-estimator-id-2\" class=\"sk-toggleable__label sk-toggleable__label-arrow\">preprocessor: ColumnTransformer</label><div class=\"sk-toggleable__content\"><pre>ColumnTransformer(remainder=&#x27;passthrough&#x27;,\n",
       "                  transformers=[(&#x27;ordinal_agegroup&#x27;,\n",
       "                                 OrdinalEncoder(categories=[[&#x27;18 - 34 Years&#x27;,\n",
       "                                                             &#x27;35 - 44 Years&#x27;,\n",
       "                                                             &#x27;45 - 54 Years&#x27;,\n",
       "                                                             &#x27;55 - 64 Years&#x27;,\n",
       "                                                             &#x27;65+ Years&#x27;]],\n",
       "                                                handle_unknown=&#x27;use_encoded_value&#x27;,\n",
       "                                                unknown_value=nan),\n",
       "                                 [&#x27;age_group&#x27;]),\n",
       "                                (&#x27;ordinal_education&#x27;,\n",
       "                                 OrdinalEncoder(categories=[[&#x27;&lt; 12 Years&#x27;,\n",
       "                                                             &#x27;12 Years&#x27;,\n",
       "                                                             &#x27;Some College&#x27;,\n",
       "                                                             &#x27;College &#x27;\n",
       "                                                             &#x27;Graduate&#x27;]],\n",
       "                                                handle...\n",
       "                                                handle_unknown=&#x27;use_encoded_value&#x27;,\n",
       "                                                unknown_value=nan),\n",
       "                                 [&#x27;income_poverty&#x27;]),\n",
       "                                (&#x27;onehot&#x27;,\n",
       "                                 Pipeline(steps=[(&#x27;onehot&#x27;,\n",
       "                                                  OneHotEncoder(handle_unknown=&#x27;ignore&#x27;))]),\n",
       "                                 Index([&#x27;age_group&#x27;, &#x27;education&#x27;, &#x27;race&#x27;, &#x27;sex&#x27;, &#x27;income_poverty&#x27;,\n",
       "       &#x27;marital_status&#x27;, &#x27;rent_or_own&#x27;, &#x27;employment_status&#x27;, &#x27;hhs_geo_region&#x27;,\n",
       "       &#x27;census_msa&#x27;, &#x27;employment_industry&#x27;, &#x27;employment_occupation&#x27;],\n",
       "      dtype=&#x27;object&#x27;))])</pre></div></div></div><div class=\"sk-parallel\"><div class=\"sk-parallel-item\"><div class=\"sk-item\"><div class=\"sk-label-container\"><div class=\"sk-label sk-toggleable\"><input class=\"sk-toggleable__control sk-hidden--visually\" id=\"sk-estimator-id-3\" type=\"checkbox\" ><label for=\"sk-estimator-id-3\" class=\"sk-toggleable__label sk-toggleable__label-arrow\">ordinal_agegroup</label><div class=\"sk-toggleable__content\"><pre>[&#x27;age_group&#x27;]</pre></div></div></div><div class=\"sk-serial\"><div class=\"sk-item\"><div class=\"sk-estimator sk-toggleable\"><input class=\"sk-toggleable__control sk-hidden--visually\" id=\"sk-estimator-id-4\" type=\"checkbox\" ><label for=\"sk-estimator-id-4\" class=\"sk-toggleable__label sk-toggleable__label-arrow\">OrdinalEncoder</label><div class=\"sk-toggleable__content\"><pre>OrdinalEncoder(categories=[[&#x27;18 - 34 Years&#x27;, &#x27;35 - 44 Years&#x27;, &#x27;45 - 54 Years&#x27;,\n",
       "                            &#x27;55 - 64 Years&#x27;, &#x27;65+ Years&#x27;]],\n",
       "               handle_unknown=&#x27;use_encoded_value&#x27;, unknown_value=nan)</pre></div></div></div></div></div></div><div class=\"sk-parallel-item\"><div class=\"sk-item\"><div class=\"sk-label-container\"><div class=\"sk-label sk-toggleable\"><input class=\"sk-toggleable__control sk-hidden--visually\" id=\"sk-estimator-id-5\" type=\"checkbox\" ><label for=\"sk-estimator-id-5\" class=\"sk-toggleable__label sk-toggleable__label-arrow\">ordinal_education</label><div class=\"sk-toggleable__content\"><pre>[&#x27;education&#x27;]</pre></div></div></div><div class=\"sk-serial\"><div class=\"sk-item\"><div class=\"sk-estimator sk-toggleable\"><input class=\"sk-toggleable__control sk-hidden--visually\" id=\"sk-estimator-id-6\" type=\"checkbox\" ><label for=\"sk-estimator-id-6\" class=\"sk-toggleable__label sk-toggleable__label-arrow\">OrdinalEncoder</label><div class=\"sk-toggleable__content\"><pre>OrdinalEncoder(categories=[[&#x27;&lt; 12 Years&#x27;, &#x27;12 Years&#x27;, &#x27;Some College&#x27;,\n",
       "                            &#x27;College Graduate&#x27;]],\n",
       "               handle_unknown=&#x27;use_encoded_value&#x27;, unknown_value=nan)</pre></div></div></div></div></div></div><div class=\"sk-parallel-item\"><div class=\"sk-item\"><div class=\"sk-label-container\"><div class=\"sk-label sk-toggleable\"><input class=\"sk-toggleable__control sk-hidden--visually\" id=\"sk-estimator-id-7\" type=\"checkbox\" ><label for=\"sk-estimator-id-7\" class=\"sk-toggleable__label sk-toggleable__label-arrow\">ordinal_income_poverty</label><div class=\"sk-toggleable__content\"><pre>[&#x27;income_poverty&#x27;]</pre></div></div></div><div class=\"sk-serial\"><div class=\"sk-item\"><div class=\"sk-estimator sk-toggleable\"><input class=\"sk-toggleable__control sk-hidden--visually\" id=\"sk-estimator-id-8\" type=\"checkbox\" ><label for=\"sk-estimator-id-8\" class=\"sk-toggleable__label sk-toggleable__label-arrow\">OrdinalEncoder</label><div class=\"sk-toggleable__content\"><pre>OrdinalEncoder(categories=[[&#x27;Below Poverty&#x27;, &#x27;&lt;= $75,000, Above Poverty&#x27;,\n",
       "                            &#x27;&gt; $75,000&#x27;]],\n",
       "               handle_unknown=&#x27;use_encoded_value&#x27;, unknown_value=nan)</pre></div></div></div></div></div></div><div class=\"sk-parallel-item\"><div class=\"sk-item\"><div class=\"sk-label-container\"><div class=\"sk-label sk-toggleable\"><input class=\"sk-toggleable__control sk-hidden--visually\" id=\"sk-estimator-id-9\" type=\"checkbox\" ><label for=\"sk-estimator-id-9\" class=\"sk-toggleable__label sk-toggleable__label-arrow\">onehot</label><div class=\"sk-toggleable__content\"><pre>Index([&#x27;age_group&#x27;, &#x27;education&#x27;, &#x27;race&#x27;, &#x27;sex&#x27;, &#x27;income_poverty&#x27;,\n",
       "       &#x27;marital_status&#x27;, &#x27;rent_or_own&#x27;, &#x27;employment_status&#x27;, &#x27;hhs_geo_region&#x27;,\n",
       "       &#x27;census_msa&#x27;, &#x27;employment_industry&#x27;, &#x27;employment_occupation&#x27;],\n",
       "      dtype=&#x27;object&#x27;)</pre></div></div></div><div class=\"sk-serial\"><div class=\"sk-item\"><div class=\"sk-serial\"><div class=\"sk-item\"><div class=\"sk-estimator sk-toggleable\"><input class=\"sk-toggleable__control sk-hidden--visually\" id=\"sk-estimator-id-10\" type=\"checkbox\" ><label for=\"sk-estimator-id-10\" class=\"sk-toggleable__label sk-toggleable__label-arrow\">OneHotEncoder</label><div class=\"sk-toggleable__content\"><pre>OneHotEncoder(handle_unknown=&#x27;ignore&#x27;)</pre></div></div></div></div></div></div></div></div><div class=\"sk-parallel-item\"><div class=\"sk-item\"><div class=\"sk-label-container\"><div class=\"sk-label sk-toggleable\"><input class=\"sk-toggleable__control sk-hidden--visually\" id=\"sk-estimator-id-11\" type=\"checkbox\" ><label for=\"sk-estimator-id-11\" class=\"sk-toggleable__label sk-toggleable__label-arrow\">remainder</label><div class=\"sk-toggleable__content\"><pre>[&#x27;h1n1_concern&#x27;, &#x27;h1n1_knowledge&#x27;, &#x27;behavioral_antiviral_meds&#x27;, &#x27;behavioral_avoidance&#x27;, &#x27;behavioral_face_mask&#x27;, &#x27;behavioral_wash_hands&#x27;, &#x27;behavioral_large_gatherings&#x27;, &#x27;behavioral_outside_home&#x27;, &#x27;behavioral_touch_face&#x27;, &#x27;doctor_recc_h1n1&#x27;, &#x27;doctor_recc_seasonal&#x27;, &#x27;chronic_med_condition&#x27;, &#x27;child_under_6_months&#x27;, &#x27;health_worker&#x27;, &#x27;health_insurance&#x27;, &#x27;opinion_h1n1_vacc_effective&#x27;, &#x27;opinion_h1n1_risk&#x27;, &#x27;opinion_h1n1_sick_from_vacc&#x27;, &#x27;opinion_seas_vacc_effective&#x27;, &#x27;opinion_seas_risk&#x27;, &#x27;opinion_seas_sick_from_vacc&#x27;, &#x27;household_adults&#x27;, &#x27;household_children&#x27;]</pre></div></div></div><div class=\"sk-serial\"><div class=\"sk-item\"><div class=\"sk-estimator sk-toggleable\"><input class=\"sk-toggleable__control sk-hidden--visually\" id=\"sk-estimator-id-12\" type=\"checkbox\" ><label for=\"sk-estimator-id-12\" class=\"sk-toggleable__label sk-toggleable__label-arrow\">passthrough</label><div class=\"sk-toggleable__content\"><pre>passthrough</pre></div></div></div></div></div></div></div></div><div class=\"sk-item sk-dashed-wrapped\"><div class=\"sk-label-container\"><div class=\"sk-label sk-toggleable\"><input class=\"sk-toggleable__control sk-hidden--visually\" id=\"sk-estimator-id-13\" type=\"checkbox\" ><label for=\"sk-estimator-id-13\" class=\"sk-toggleable__label sk-toggleable__label-arrow\">classifier: MultiOutputClassifier</label><div class=\"sk-toggleable__content\"><pre>MultiOutputClassifier(estimator=XGBClassifier(base_score=None, booster=None,\n",
       "                                              callbacks=None,\n",
       "                                              colsample_bylevel=None,\n",
       "                                              colsample_bynode=None,\n",
       "                                              colsample_bytree=0.3,\n",
       "                                              early_stopping_rounds=None,\n",
       "                                              enable_categorical=False,\n",
       "                                              eval_metric=None, gamma=0,\n",
       "                                              gpu_id=None, grow_policy=None,\n",
       "                                              importance_type=None,\n",
       "                                              interaction_constraints=None,\n",
       "                                              learning_rate=None, max_bin=None,\n",
       "                                              max_cat_to_onehot=None,\n",
       "                                              max_delta_step=None, max_depth=4,\n",
       "                                              max_leaves=None,\n",
       "                                              min_child_weight=None, missing=1,\n",
       "                                              monotone_constraints=None,\n",
       "                                              n_estimators=100, n_jobs=None,\n",
       "                                              num_parallel_tree=None,\n",
       "                                              predictor=None, random_state=None,\n",
       "                                              reg_alpha=None, reg_lambda=None, ...))</pre></div></div></div><div class=\"sk-parallel\"><div class=\"sk-parallel-item\"><div class=\"sk-item\"><div class=\"sk-label-container\"><div class=\"sk-label sk-toggleable\"><input class=\"sk-toggleable__control sk-hidden--visually\" id=\"sk-estimator-id-14\" type=\"checkbox\" ><label for=\"sk-estimator-id-14\" class=\"sk-toggleable__label sk-toggleable__label-arrow\">estimator: XGBClassifier</label><div class=\"sk-toggleable__content\"><pre>XGBClassifier(base_score=None, booster=None, callbacks=None,\n",
       "              colsample_bylevel=None, colsample_bynode=None,\n",
       "              colsample_bytree=0.3, early_stopping_rounds=None,\n",
       "              enable_categorical=False, eval_metric=None, gamma=0, gpu_id=None,\n",
       "              grow_policy=None, importance_type=None,\n",
       "              interaction_constraints=None, learning_rate=None, max_bin=None,\n",
       "              max_cat_to_onehot=None, max_delta_step=None, max_depth=4,\n",
       "              max_leaves=None, min_child_weight=None, missing=1,\n",
       "              monotone_constraints=None, n_estimators=100, n_jobs=None,\n",
       "              num_parallel_tree=None, predictor=None, random_state=None,\n",
       "              reg_alpha=None, reg_lambda=None, ...)</pre></div></div></div><div class=\"sk-serial\"><div class=\"sk-item\"><div class=\"sk-estimator sk-toggleable\"><input class=\"sk-toggleable__control sk-hidden--visually\" id=\"sk-estimator-id-15\" type=\"checkbox\" ><label for=\"sk-estimator-id-15\" class=\"sk-toggleable__label sk-toggleable__label-arrow\">XGBClassifier</label><div class=\"sk-toggleable__content\"><pre>XGBClassifier(base_score=None, booster=None, callbacks=None,\n",
       "              colsample_bylevel=None, colsample_bynode=None,\n",
       "              colsample_bytree=0.3, early_stopping_rounds=None,\n",
       "              enable_categorical=False, eval_metric=None, gamma=0, gpu_id=None,\n",
       "              grow_policy=None, importance_type=None,\n",
       "              interaction_constraints=None, learning_rate=None, max_bin=None,\n",
       "              max_cat_to_onehot=None, max_delta_step=None, max_depth=4,\n",
       "              max_leaves=None, min_child_weight=None, missing=1,\n",
       "              monotone_constraints=None, n_estimators=100, n_jobs=None,\n",
       "              num_parallel_tree=None, predictor=None, random_state=None,\n",
       "              reg_alpha=None, reg_lambda=None, ...)</pre></div></div></div></div></div></div></div></div></div></div></div></div>"
      ],
      "text/plain": [
       "Pipeline(steps=[('preprocessor',\n",
       "                 ColumnTransformer(remainder='passthrough',\n",
       "                                   transformers=[('ordinal_agegroup',\n",
       "                                                  OrdinalEncoder(categories=[['18 '\n",
       "                                                                              '- '\n",
       "                                                                              '34 '\n",
       "                                                                              'Years',\n",
       "                                                                              '35 '\n",
       "                                                                              '- '\n",
       "                                                                              '44 '\n",
       "                                                                              'Years',\n",
       "                                                                              '45 '\n",
       "                                                                              '- '\n",
       "                                                                              '54 '\n",
       "                                                                              'Years',\n",
       "                                                                              '55 '\n",
       "                                                                              '- '\n",
       "                                                                              '64 '\n",
       "                                                                              'Years',\n",
       "                                                                              '65+ '\n",
       "                                                                              'Years']],\n",
       "                                                                 handle_unknown='use_encoded_value',\n",
       "                                                                 unknown_value=nan),\n",
       "                                                  ['age_group']),\n",
       "                                                 ('ordinal_education',\n",
       "                                                  OrdinalEncoder(categories=[['< '\n",
       "                                                                              '1...\n",
       "                                                               grow_policy=None,\n",
       "                                                               importance_type=None,\n",
       "                                                               interaction_constraints=None,\n",
       "                                                               learning_rate=None,\n",
       "                                                               max_bin=None,\n",
       "                                                               max_cat_to_onehot=None,\n",
       "                                                               max_delta_step=None,\n",
       "                                                               max_depth=4,\n",
       "                                                               max_leaves=None,\n",
       "                                                               min_child_weight=None,\n",
       "                                                               missing=1,\n",
       "                                                               monotone_constraints=None,\n",
       "                                                               n_estimators=100,\n",
       "                                                               n_jobs=None,\n",
       "                                                               num_parallel_tree=None,\n",
       "                                                               predictor=None,\n",
       "                                                               random_state=None,\n",
       "                                                               reg_alpha=None,\n",
       "                                                               reg_lambda=None, ...)))])"
      ]
     },
     "execution_count": 35,
     "metadata": {},
     "output_type": "execute_result"
    }
   ],
   "source": [
    "classifier = MultiOutputClassifier(xgb.XGBClassifier(objective='binary:logistic',\n",
    "                            missing=1, seed=RND_SEED,\n",
    "                           colsample_bytree=0.3,\n",
    "                           max_depth=4,\n",
    "                            gamma=0,\n",
    "                           scale_pos_weight=25,))\n",
    "\n",
    "clf = Pipeline([('preprocessor', preprocessor),\n",
    "                ('classifier', classifier)])\n",
    "\n",
    "clf.fit(X_train, y_train).fit(X_train,\n",
    "            y_train,)\n",
    "\n",
    "#classifier__early_stopping_rounds=10,\n",
    "#            classifier__',\n",
    "#            classifier__eval_set=[(X_test, y_test)]"
   ]
  },
  {
   "cell_type": "markdown",
   "id": "ff3c190d-9763-42ae-ace8-a297e5e59cd2",
   "metadata": {},
   "source": [
    "## Cross Validation"
   ]
  },
  {
   "cell_type": "code",
   "execution_count": 114,
   "id": "687cdc1c-6256-4e9a-a434-c472ec5c0272",
   "metadata": {},
   "outputs": [],
   "source": [
    "classifier_estimator_params = {\n",
    "    'max_depth': [3,5,10],\n",
    "     'n_estimators' :[75,100,125],\n",
    "    'learning_rate' : [0.01, 0.1, 0.3,],\n",
    "    'colsample_bytree': [0.75, 1],\n",
    "    'subsample' : [0.6, 0.8, 1],\n",
    "    #'alpha' : [0, 0.5, 1],\n",
    "    #\n",
    "    #    'gamma' : [25,],\n",
    "    #\n",
    "    #'scale_pos_weight' : [5,],\n",
    "    #'min_child_weight' : [1.2,]\n",
    "}\n",
    "classifier_estimator_params = {'classifier__estimator__'+k : v for k,v in classifier_estimator_params.items()}\n"
   ]
  },
  {
   "cell_type": "code",
   "execution_count": null,
   "id": "1dd2037c-0406-4a21-a44b-b8ac7c704c08",
   "metadata": {},
   "outputs": [],
   "source": [
    "\n",
    "param_grid = {**classifier_estimator_params}\n",
    "\n",
    "CV = GridSearchCV(clf, \n",
    "                  param_grid, \n",
    "                  n_jobs= 1,\n",
    "                 scoring='roc_auc',)\n",
    "\n",
    "CV.fit(X_train, y_train)  \n",
    "print(CV.best_params_)    \n",
    "print(CV.best_score_)"
   ]
  },
  {
   "cell_type": "code",
   "execution_count": 102,
   "id": "bcf12cff-3e24-49d7-969a-f6c85f51e6e0",
   "metadata": {},
   "outputs": [],
   "source": [
    "y_pred = CV.best_estimator_.predict_proba(X_test)"
   ]
  },
  {
   "cell_type": "code",
   "execution_count": 103,
   "id": "8b9288bf-f5d9-4f23-bfca-fe0545d802ac",
   "metadata": {},
   "outputs": [],
   "source": [
    "y_pred_h1n1 = y_pred[0][ :, 1]\n",
    "y_pred_seasonal = y_pred[1][ :, 1]"
   ]
  },
  {
   "cell_type": "code",
   "execution_count": 104,
   "id": "20df5c2d-bce1-4133-a045-9f1221205f8a",
   "metadata": {},
   "outputs": [],
   "source": [
    "y_test_h1n1 = y_test.values[:,0]\n",
    "y_test_seasonal = y_test.values[:,1]"
   ]
  },
  {
   "cell_type": "code",
   "execution_count": 105,
   "id": "c942a80e-b0f7-4596-9d81-acd3a39d321f",
   "metadata": {},
   "outputs": [
    {
     "data": {
      "image/png": "[encoded data removed]",
      "text/plain": [
       "<Figure size 504x252 with 2 Axes>"
      ]
     },
     "metadata": {
      "needs_background": "light"
     },
     "output_type": "display_data"
    }
   ],
   "source": [
    "# see https://drivendata.co/blog/predict-flu-vaccine-data-benchmark/\n",
    "\n",
    "def plot_roc(y_true, y_score, label_name, ax):\n",
    "    fpr, tpr, thresholds = roc_curve(y_true, y_score)\n",
    "    ax.plot(fpr, tpr)\n",
    "    ax.plot([0, 1], [0, 1], color='grey', linestyle='--')\n",
    "    ax.set_ylabel('TPR')\n",
    "    ax.set_xlabel('FPR')\n",
    "    ax.set_title(\n",
    "        f\"{label_name}: AUC = {roc_auc_score(y_true, y_score):.4f}\"\n",
    "    )\n",
    "\n",
    "fig, ax = plt.subplots(1, 2, figsize=(7, 3.5))\n",
    "\n",
    "plot_roc(\n",
    "    y_test['h1n1_vaccine'], \n",
    "    y_pred_h1n1, \n",
    "    'h1n1_vaccine',\n",
    "    ax=ax[0]\n",
    ")\n",
    "\n",
    "plot_roc(\n",
    "    y_test['seasonal_vaccine'], \n",
    "    y_pred_seasonal, \n",
    "    'seasonal_vaccine',\n",
    "    ax=ax[1]\n",
    ")\n",
    "\n",
    "fig.tight_layout()\n"
   ]
  },
  {
   "cell_type": "code",
   "execution_count": null,
   "id": "29154420-663d-4027-ae94-a794cc8e5b21",
   "metadata": {},
   "outputs": [],
   "source": []
  }
 ],
 "metadata": {
  "kernelspec": {
   "display_name": "aikernel",
   "language": "python",
   "name": "aikernel"
  },
  "language_info": {
   "codemirror_mode": {
    "name": "ipython",
    "version": 3
   },
   "file_extension": ".py",
   "mimetype": "text/x-python",
   "name": "python",
   "nbconvert_exporter": "python",
   "pygments_lexer": "ipython3",
   "version": "3.10.4"
  }
 },
 "nbformat": 4,
 "nbformat_minor": 5
}
